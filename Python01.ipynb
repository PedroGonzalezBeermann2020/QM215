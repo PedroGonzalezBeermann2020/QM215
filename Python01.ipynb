{
  "nbformat": 4,
  "nbformat_minor": 0,
  "metadata": {
    "colab": {
      "provenance": [],
      "authorship_tag": "ABX9TyMSn8SyCpl+eA2LcTWAdfyw"
    },
    "kernelspec": {
      "name": "python3",
      "display_name": "Python 3"
    },
    "language_info": {
      "name": "python"
    }
  },
  "cells": [
    {
      "cell_type": "code",
      "execution_count": 1,
      "metadata": {
        "id": "aBtb5-dl0GuG"
      },
      "outputs": [],
      "source": [
        "import numpy as np\n",
        "import matplotlib.pyplot as ply"
      ]
    },
    {
      "cell_type": "code",
      "source": [],
      "metadata": {
        "id": "YF7Whj0K1myA"
      },
      "execution_count": null,
      "outputs": []
    }
  ]
}